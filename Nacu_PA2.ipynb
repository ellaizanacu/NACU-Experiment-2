{
 "cells": [
  {
   "cell_type": "code",
   "execution_count": 31,
   "id": "e7657745-690b-4a6b-9a96-ea04fe544ce6",
   "metadata": {},
   "outputs": [
    {
     "name": "stdout",
     "output_type": "stream",
     "text": [
      "Original 5x5 ndarray: \n",
      "[[0.14398988 0.5333821  0.33967622 0.43845008 0.14536238]\n",
      " [0.48165727 0.06127905 0.51648465 0.7677205  0.58116433]\n",
      " [0.36268519 0.98097113 0.49653053 0.23315221 0.06228661]\n",
      " [0.65551937 0.08325488 0.02081862 0.0511115  0.04547173]\n",
      " [0.51683466 0.10292174 0.76306802 0.37000689 0.2174101 ]] \n",
      "\n",
      "Normalized 5x5 ndarray: \n",
      "[[-0.81703882  0.66369643 -0.07290566  0.30270002 -0.81181964]\n",
      " [ 0.46700327 -1.13156191  0.59944077  1.55481108  0.84539711]\n",
      " [ 0.01459017  2.36573567  0.52356159 -0.47798274 -1.12773045]\n",
      " [ 1.12814574 -1.04799477 -1.28542008 -1.17022587 -1.19167214]\n",
      " [ 0.60077176 -0.97320795  1.53711918  0.04243224 -0.53784498]]\n"
     ]
    }
   ],
   "source": [
    "#Normalization Problem\n",
    "\n",
    "#import the NumPy library (for numerical computing) and shorten it to np \n",
    "import numpy as np\n",
    "\n",
    "#create a random 5x5 ndarray and store it to variable X\n",
    "X = np.random.random((5,5))\n",
    "\n",
    "#set variables to calculate the mean and standard deviation of X\n",
    "X_mean = X.mean()\n",
    "X_std = X.std()\n",
    "\n",
    "#set variable to get the normalized version of X\n",
    "X_normalized = (X - X_mean)/X_std\n",
    "\n",
    "#save the normalized version of the array as 'X_normalized.npy'\n",
    "np.save('X_normalized.npy', X_normalized)\n",
    "\n",
    "#print the original and normalized 5x5 ndarray\n",
    "print(\"Original 5x5 ndarray: \")\n",
    "print(X, \"\\n\")\n",
    "print(\"Normalized 5x5 ndarray: \")\n",
    "print(X_normalized)"
   ]
  },
  {
   "cell_type": "code",
   "execution_count": 47,
   "id": "8ef64a9c-08cf-41bb-9a2f-ed14644a8ea4",
   "metadata": {},
   "outputs": [
    {
     "name": "stdout",
     "output_type": "stream",
     "text": [
      "Original 10x10 ndarray: \n",
      "\n",
      "A = \n",
      " [[    1     4     9    16    25    36    49    64    81   100]\n",
      " [  121   144   169   196   225   256   289   324   361   400]\n",
      " [  441   484   529   576   625   676   729   784   841   900]\n",
      " [  961  1024  1089  1156  1225  1296  1369  1444  1521  1600]\n",
      " [ 1681  1764  1849  1936  2025  2116  2209  2304  2401  2500]\n",
      " [ 2601  2704  2809  2916  3025  3136  3249  3364  3481  3600]\n",
      " [ 3721  3844  3969  4096  4225  4356  4489  4624  4761  4900]\n",
      " [ 5041  5184  5329  5476  5625  5776  5929  6084  6241  6400]\n",
      " [ 6561  6724  6889  7056  7225  7396  7569  7744  7921  8100]\n",
      " [ 8281  8464  8649  8836  9025  9216  9409  9604  9801 10000]]\n",
      "\n",
      " Elements Divisible by 3: \n",
      " [   9   36   81  144  225  324  441  576  729  900 1089 1296 1521 1764\n",
      " 2025 2304 2601 2916 3249 3600 3969 4356 4761 5184 5625 6084 6561 7056\n",
      " 7569 8100 8649 9216 9801]\n"
     ]
    }
   ],
   "source": [
    "#Divisible by 3 Problem\n",
    "\n",
    "#import the NumPy library (for numerical computing) and shorten it to np \n",
    "import numpy as np\n",
    "\n",
    "#create a 10x10 ndarray with the first 100 positive integers and it's square\n",
    "A = np.arange(1, 101).reshape(10, 10) ** 2\n",
    "\n",
    "#identify all the elements that are divisible by 3\n",
    "div_by_3 = A[A % 3 == 0]\n",
    "\n",
    "#save the result of the ndarray as 'div_by_3.npy'\n",
    "np.save('div_by_3.npy', div_by_3)\n",
    "\n",
    "#print the original 10x10 ndarray and its elements that are divisible by 3\n",
    "print(\"Original 10x10 ndarray: \\n\")\n",
    "print(\"A = \\n\", A)\n",
    "print(\"\\n Elements Divisible by 3: \\n\", div_by_3)"
   ]
  }
 ],
 "metadata": {
  "kernelspec": {
   "display_name": "Python 3 (ipykernel)",
   "language": "python",
   "name": "python3"
  },
  "language_info": {
   "codemirror_mode": {
    "name": "ipython",
    "version": 3
   },
   "file_extension": ".py",
   "mimetype": "text/x-python",
   "name": "python",
   "nbconvert_exporter": "python",
   "pygments_lexer": "ipython3",
   "version": "3.12.4"
  }
 },
 "nbformat": 4,
 "nbformat_minor": 5
}
