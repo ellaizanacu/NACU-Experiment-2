{
 "cells": [
  {
   "cell_type": "markdown",
   "id": "b8da0864-ec58-4c7c-9e0d-34f953e14e35",
   "metadata": {},
   "source": [
    "# NORMALIZATION PROBLEM:\n",
    "This problem generates a random 5x5 array, calculates the mean and standard deviation, and returns the normalized version of the array.\n",
    "\n",
    "#### Expected Input:\n",
    "- A randomly generated 5x5 NumPy array.\n",
    "\n",
    "#### Expected Output:\n",
    "- The original and normalized versions of the 5x5 array.\n",
    "\n",
    "#### Formula for Normalization:\n",
    "- The normalized value for each element `X` in the array is computed using:\n",
    "\n",
    "\\[x_{\\text{normalized}} = \\frac{x - \\text{mean}(X)}{\\text{std}(X)}\\]"
   ]
  },
  {
   "cell_type": "code",
   "execution_count": 6,
   "id": "3ad6c9ed-9098-4f24-9289-115abefb70f1",
   "metadata": {},
   "outputs": [
    {
     "name": "stdout",
     "output_type": "stream",
     "text": [
      "Original 5x5 ndarray: \n",
      "[[0.04511858 0.19974903 0.19065522 0.16903077 0.39697489]\n",
      " [0.5562152  0.15988821 0.68372569 0.47007683 0.18017113]\n",
      " [0.99462091 0.04848455 0.81740299 0.09895508 0.86201441]\n",
      " [0.47881258 0.32268133 0.79294602 0.13014492 0.77370524]\n",
      " [0.81820091 0.17024801 0.31420355 0.06640377 0.30802389]] \n",
      "\n",
      "Normalized 5x5 ndarray: \n",
      "[[-1.21161947 -0.68655505 -0.71743403 -0.79086221 -0.0168533 ]\n",
      " [ 0.52386442 -0.82190676  0.95684009  0.23137226 -0.75303393]\n",
      " [ 2.01251847 -1.20018996  1.41075583 -1.02881179  1.56223875]\n",
      " [ 0.26103547 -0.26912511  1.32770955 -0.92290334  1.26237539]\n",
      " [ 1.41346527 -0.78672894 -0.29791231 -1.1393433  -0.31889604]]\n"
     ]
    }
   ],
   "source": [
    "# Import the NumPy library (for numerical computing) and shorten it to np \n",
    "import numpy as np\n",
    "\n",
    "# Function to normalize a NumPy array\n",
    "def normalize_array(X):\n",
    "    if not isinstance(X, np.ndarray):\n",
    "        return \"Input is not a NumPy array.\"\n",
    "\n",
    "    if X.size == 0:\n",
    "        return \"Array is empty.\"\n",
    "\n",
    "    # Set variables to calculate the mean and standard deviation of X\n",
    "    X_mean = X.mean()\n",
    "    X_std = X.std()\n",
    "\n",
    "    # Return the normalized version of X\n",
    "    return (X - X_mean) / X_std\n",
    "\n",
    "# Create a random 5x5 ndarray and store it to variable X\n",
    "X = np.random.random((5, 5))\n",
    "\n",
    "# Normalize the array\n",
    "X_normalized = normalize_array(X)\n",
    "\n",
    "# Save the normalized version of the array as 'X_normalized.npy'\n",
    "np.save('X_normalized.npy', X_normalized)\n",
    "\n",
    "# Print the original and normalized 5x5 ndarray\n",
    "print(\"Original 5x5 ndarray: \")\n",
    "print(X, \"\\n\")\n",
    "print(\"Normalized 5x5 ndarray: \")\n",
    "print(X_normalized)"
   ]
  },
  {
   "cell_type": "markdown",
   "id": "8c4966a3-a447-45e7-9edf-563cbd47b075",
   "metadata": {},
   "source": [
    "# DIVISIBLE BY 3 PROBLEM:\n",
    "This problem generates a 10x10 array containing the squares of the first 100 positive integers. It identifies and outputs all elements divisible by 3.\n",
    "\n",
    "#### Expected Input:\n",
    "- A 10x10 NumPy array of squared integers.\n",
    "\n",
    "#### Expected Output:\n",
    "- The original 10x10 array and all elements divisible by 3."
   ]
  },
  {
   "cell_type": "code",
   "execution_count": 17,
   "id": "ec55306d-8be0-4a75-b201-351748645e90",
   "metadata": {},
   "outputs": [
    {
     "name": "stdout",
     "output_type": "stream",
     "text": [
      "Original 10x10 ndarray: \n",
      "\n",
      "A = \n",
      " [[    1     4     9    16    25    36    49    64    81   100]\n",
      " [  121   144   169   196   225   256   289   324   361   400]\n",
      " [  441   484   529   576   625   676   729   784   841   900]\n",
      " [  961  1024  1089  1156  1225  1296  1369  1444  1521  1600]\n",
      " [ 1681  1764  1849  1936  2025  2116  2209  2304  2401  2500]\n",
      " [ 2601  2704  2809  2916  3025  3136  3249  3364  3481  3600]\n",
      " [ 3721  3844  3969  4096  4225  4356  4489  4624  4761  4900]\n",
      " [ 5041  5184  5329  5476  5625  5776  5929  6084  6241  6400]\n",
      " [ 6561  6724  6889  7056  7225  7396  7569  7744  7921  8100]\n",
      " [ 8281  8464  8649  8836  9025  9216  9409  9604  9801 10000]]\n",
      "\n",
      " Elements Divisible by 3: \n",
      " [   9   36   81  144  225  324  441  576  729  900 1089 1296 1521 1764\n",
      " 2025 2304 2601 2916 3249 3600 3969 4356 4761 5184 5625 6084 6561 7056\n",
      " 7569 8100 8649 9216 9801]\n"
     ]
    }
   ],
   "source": [
    "# Import the NumPy library (for numerical computing) and shorten it to np \n",
    "import numpy as np\n",
    "\n",
    "# Function to generate a 10x10 matrix of squared integers and find elements divisible by 3\n",
    "def find_divisible_by_3():\n",
    "    \n",
    "    # Create a 10x10 ndarray with the first 100 positive integers, squared\n",
    "    A = np.arange(1, 101).reshape(10, 10) ** 2\n",
    "\n",
    "    # Identify all the elements that are divisible by 3\n",
    "    div_by_3 = A[A % 3 == 0]\n",
    "\n",
    "    # Return both the original array and the elements divisible by 3\n",
    "    return A, div_by_3\n",
    "\n",
    "# Generate the array and find divisible elements\n",
    "A, div_by_3 = find_divisible_by_3()\n",
    "\n",
    "# Save the result of the ndarray as 'div_by_3.npy'\n",
    "np.save('div_by_3.npy', div_by_3)\n",
    "\n",
    "# Print the original 10x10 ndarray and its elements that are divisible by 3\n",
    "print(\"Original 10x10 ndarray: \\n\")\n",
    "print(\"A = \\n\", A)\n",
    "print(\"\\n Elements Divisible by 3: \\n\", div_by_3)"
   ]
  }
 ],
 "metadata": {
  "kernelspec": {
   "display_name": "Python 3 (ipykernel)",
   "language": "python",
   "name": "python3"
  },
  "language_info": {
   "codemirror_mode": {
    "name": "ipython",
    "version": 3
   },
   "file_extension": ".py",
   "mimetype": "text/x-python",
   "name": "python",
   "nbconvert_exporter": "python",
   "pygments_lexer": "ipython3",
   "version": "3.12.4"
  }
 },
 "nbformat": 4,
 "nbformat_minor": 5
}
